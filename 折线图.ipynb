{
 "cells": [
  {
   "cell_type": "code",
   "execution_count": null,
   "id": "initial_id",
   "metadata": {
    "collapsed": true
   },
   "outputs": [],
   "source": []
  },
  {
   "cell_type": "code",
   "execution_count": 1,
   "outputs": [],
   "source": [
    "import pandas as pd\n",
    "import numpy as np\n",
    "import torch\n",
    "import torch.nn as nn\n",
    "import torch.optim as optim\n",
    "from sklearn.preprocessing import StandardScaler\n",
    "from sklearn.model_selection import train_test_split\n",
    "\n",
    "# 读取CSV文件\n",
    "df = pd.read_csv('重力数据2整体测试结果.csv')\n",
    "\n",
    "# 数据预处理\n",
    "# scaler = StandardScaler() \n",
    "# df1[['longitude', 'latitude']] = scaler.fit_transform(df1[['longitude', 'latitude']])\n",
    "# df2[['longitude', 'latitude']] = scaler.fit_transform(df2[['longitude', 'latitude']])\n",
    "# value = df['value'].values\n",
    "# RNNprediction = df['RNN3-prediction'].values\n",
    "# RFprediction = df['RF2-prediction'].values\n",
    "# SVMprediction = df['SVM-prediction'].values\n",
    "# krigingprediction = df['kriging2-prediction'].values\n",
    "# \n",
    "# kriging1prediction = df['kriging1-prediction'].values\n",
    "value = df['value'].values[:50]\n",
    "RNNprediction = df['RNN3-prediction'].values[:50]\n",
    "RFprediction = df['RF2-prediction'].values[:50]\n",
    "SVMprediction = df['SVM-prediction'].values[:50]\n",
    "krigingprediction = df['kriging2-prediction'].values[:50]\n",
    "\n",
    "kriging1prediction = df['kriging1-prediction'].values[:50]\n",
    "\n",
    "import matplotlib.pyplot as plt\n",
    "plt.rcParams.update({'font.size': 25})\n",
    "plt.rcParams['font.sans-serif'] = ['Times New Roman']\n",
    "\n",
    "# 创建一个新的图形\n",
    "plt.figure(figsize=(30, 10))\n",
    "# 添加图例，并设置字体大小为20\n",
    "# plt.legend(prop={'size': 20})\n",
    "\n",
    "# 绘制RNN的差值折线图\n",
    "plt.plot(range(len(value)), value, 'ro-',label='True Value', color='b')\n",
    "plt.plot(range(len(RNNprediction)), RNNprediction, label='RNN', color='g')\n",
    "\n",
    "# 绘制RF的差值折线图\n",
    "plt.plot(range(len(RFprediction)), RFprediction, label='RF', color='orange')\n",
    "\n",
    "# 绘制SVM的差值折线图\n",
    "plt.plot(range(len(SVMprediction)), SVMprediction, label='SVM', color='k')\n",
    "\n",
    "# 绘制Kriging的差值折线图\n",
    "plt.plot(range(len(krigingprediction)), krigingprediction, label='Kriging', color='r')\n",
    "\n",
    "plt.legend(loc='lower right')\n",
    "# 添加标题和标签\n",
    "plt.xlabel('Number of samples')\n",
    "plt.ylabel('Value(mGal)')\n",
    "# plt.title('Model Differences')\n",
    "\n",
    "# 保存图像\n",
    "plt.savefig('数据2前50模型差值折线图-点图1.png')\n",
    "\n",
    "# 显示图形\n",
    "plt.show()\n",
    "\n"
   ],
   "metadata": {
    "collapsed": false,
    "ExecuteTime": {
     "end_time": "2024-05-15T05:12:45.474886500Z",
     "start_time": "2024-05-15T05:12:37.726969900Z"
    }
   },
   "id": "cb4b1cf65eeb598a"
  },
  {
   "cell_type": "code",
   "execution_count": 3,
   "outputs": [],
   "source": [],
   "metadata": {
    "collapsed": false,
    "ExecuteTime": {
     "end_time": "2024-05-15T05:12:46.831282200Z",
     "start_time": "2024-05-15T05:12:46.830317100Z"
    }
   },
   "id": "1163797d2969e382"
  }
 ],
 "metadata": {
  "kernelspec": {
   "display_name": "Python 3",
   "language": "python",
   "name": "python3"
  },
  "language_info": {
   "codemirror_mode": {
    "name": "ipython",
    "version": 2
   },
   "file_extension": ".py",
   "mimetype": "text/x-python",
   "name": "python",
   "nbconvert_exporter": "python",
   "pygments_lexer": "ipython2",
   "version": "2.7.6"
  }
 },
 "nbformat": 4,
 "nbformat_minor": 5
}

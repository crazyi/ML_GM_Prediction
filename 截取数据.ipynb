{
 "cells": [
  {
   "cell_type": "code",
   "execution_count": null,
   "id": "initial_id",
   "metadata": {
    "collapsed": true
   },
   "outputs": [],
   "source": [
    ""
   ]
  },
  {
   "metadata": {
    "ExecuteTime": {
     "end_time": "2024-12-23T11:26:11.323239Z",
     "start_time": "2024-12-23T11:26:10.789918Z"
    }
   },
   "cell_type": "code",
   "source": [
    "import pandas as pd\n",
    "\n",
    "# 读取文件\n",
    "data = pd.read_csv('大数据.csv')\n",
    "\n",
    "print('数据基本信息：')\n",
    "data.info()\n",
    "print('数据的前几行：')\n",
    "print(data.head())\n",
    "# 截取数据\n",
    "filter_data = data[(data['longitude'] >= 119) & (data['longitude'] <= 120) & (data['latitude'] >= 20) & (data['latitude'] <= 21)]\n",
    "\n",
    "# 保存数据\n",
    "csv_path = '南海数据小小.csv'\n",
    "filter_data.to_csv(csv_path)"
   ],
   "id": "cd05a8813720ef96",
   "outputs": [
    {
     "name": "stdout",
     "output_type": "stream",
     "text": [
      "数据基本信息：\n",
      "<class 'pandas.core.frame.DataFrame'>\n",
      "RangeIndex: 766161 entries, 0 to 766160\n",
      "Data columns (total 3 columns):\n",
      " #   Column     Non-Null Count   Dtype  \n",
      "---  ------     --------------   -----  \n",
      " 0   longitude  766161 non-null  float64\n",
      " 1   latitude   766161 non-null  float64\n",
      " 2   value      766161 non-null  float64\n",
      "dtypes: float64(3)\n",
      "memory usage: 17.5 MB\n",
      "数据的前几行：\n",
      "   longitude  latitude    value\n",
      "0  104.00000   1.99479   9.0237\n",
      "1  104.02304   1.99479   8.5532\n",
      "2  104.04609   1.99479   7.3142\n",
      "3  104.06913   1.99479   7.2758\n",
      "4  104.09218   1.99479  10.2990\n"
     ]
    }
   ],
   "execution_count": 1
  },
  {
   "metadata": {
    "ExecuteTime": {
     "end_time": "2024-11-12T05:49:45.522373Z",
     "start_time": "2024-11-12T05:49:45.339750Z"
    }
   },
   "cell_type": "code",
   "source": [
    "import pandas as pd\n",
    "\n",
    "# 读取文件\n",
    "data = pd.read_csv('EGM1.csv')\n",
    "\n",
    "print('数据基本信息：')\n",
    "data.info()\n",
    "print('数据的前几行：')\n",
    "print(data.head())\n",
    "# 截取数据\n",
    "filter_data = data[(data['longitude'] >= 112) & (data['longitude'] <= 115) & (data['latitude'] >= 31) & (data['latitude'] <= 33)]\n",
    "\n",
    "# 保存数据\n",
    "csv_path = 'EGM小.csv'\n",
    "filter_data.to_csv(csv_path)"
   ],
   "id": "abf5143b11a36877",
   "outputs": [
    {
     "name": "stdout",
     "output_type": "stream",
     "text": [
      "数据基本信息：\n",
      "<class 'pandas.core.frame.DataFrame'>\n",
      "RangeIndex: 120701 entries, 0 to 120700\n",
      "Data columns (total 3 columns):\n",
      " #   Column     Non-Null Count   Dtype  \n",
      "---  ------     --------------   -----  \n",
      " 0   longitude  120701 non-null  float64\n",
      " 1   latitude   120701 non-null  float64\n",
      " 2   value      120701 non-null  float64\n",
      "dtypes: float64(3)\n",
      "memory usage: 2.8 MB\n",
      "数据的前几行：\n",
      "   longitude  latitude  value\n",
      "0     111.00      28.0 -54.93\n",
      "1     111.02      28.0 -53.59\n",
      "2     111.04      28.0 -52.28\n",
      "3     111.06      28.0 -51.37\n",
      "4     111.08      28.0 -51.05\n"
     ]
    }
   ],
   "execution_count": 1
  }
 ],
 "metadata": {
  "kernelspec": {
   "display_name": "Python 3",
   "language": "python",
   "name": "python3"
  },
  "language_info": {
   "codemirror_mode": {
    "name": "ipython",
    "version": 2
   },
   "file_extension": ".py",
   "mimetype": "text/x-python",
   "name": "python",
   "nbconvert_exporter": "python",
   "pygments_lexer": "ipython2",
   "version": "2.7.6"
  }
 },
 "nbformat": 4,
 "nbformat_minor": 5
}

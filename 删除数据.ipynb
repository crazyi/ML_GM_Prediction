{
 "cells": [
  {
   "cell_type": "code",
   "execution_count": null,
   "id": "initial_id",
   "metadata": {
    "collapsed": true
   },
   "outputs": [],
   "source": [
    ""
   ]
  },
  {
   "metadata": {
    "ExecuteTime": {
     "end_time": "2024-12-24T11:00:38.282962Z",
     "start_time": "2024-12-24T11:00:38.120118Z"
    }
   },
   "cell_type": "code",
   "source": [
    "import pandas as pd\n",
    "\n",
    "# 输入和输出文件名\n",
    "input_file = \"南海数据小小.csv\"  # 原始CSV文件名\n",
    "output_file = \"验证集.csv\"  # 保存20%数据的新文件名\n",
    "updated_file = \"训练集.csv\"  # 删除20%数据后的原文件名\n",
    "\n",
    "# 读取CSV文件\n",
    "df = pd.read_csv(input_file)\n",
    "\n",
    "# 随机抽取20%的数据\n",
    "sampled_df = df.sample(frac=0.2, random_state=42)  # random_state确保可复现结果\n",
    "\n",
    "# 将抽取的数据保存到新文件\n",
    "sampled_df.to_csv(output_file, index=False)\n",
    "\n",
    "# 从原数据中删除抽取的数据\n",
    "remaining_df = df.drop(sampled_df.index)\n",
    "\n",
    "# 将剩余数据保存回原文件（或其他文件）\n",
    "remaining_df.to_csv(updated_file, index=False)\n",
    "\n",
    "print(f\"20%的数据已保存到 '{output_file}'，剩余数据已保存到 '{updated_file}'\")\n"
   ],
   "id": "6c2f6764d9a199a9",
   "outputs": [
    {
     "name": "stdout",
     "output_type": "stream",
     "text": [
      "20%的数据已保存到 '验证集.csv'，剩余数据已保存到 '训练集.csv'\n"
     ]
    }
   ],
   "execution_count": 1
  }
 ],
 "metadata": {
  "kernelspec": {
   "display_name": "Python 3",
   "language": "python",
   "name": "python3"
  },
  "language_info": {
   "codemirror_mode": {
    "name": "ipython",
    "version": 2
   },
   "file_extension": ".py",
   "mimetype": "text/x-python",
   "name": "python",
   "nbconvert_exporter": "python",
   "pygments_lexer": "ipython2",
   "version": "2.7.6"
  }
 },
 "nbformat": 4,
 "nbformat_minor": 5
}

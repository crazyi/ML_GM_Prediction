{
 "cells": [
  {
   "cell_type": "code",
   "execution_count": 1,
   "id": "initial_id",
   "metadata": {
    "collapsed": true,
    "ExecuteTime": {
     "end_time": "2024-05-06T05:30:14.565738600Z",
     "start_time": "2024-05-06T05:30:06.566563400Z"
    }
   },
   "outputs": [],
   "source": [
    "\n",
    "import pandas as pd\n",
    "import numpy as np\n",
    "import torch\n",
    "import torch.nn as nn\n",
    "import torch.optim as optim\n",
    "from sklearn.preprocessing import StandardScaler\n",
    "from sklearn.model_selection import train_test_split\n",
    "\n",
    "# 读取CSV文件\n",
    "df = pd.read_csv('重力数据2整体测试结果.csv')\n",
    "\n",
    "# 数据预处理\n",
    "# scaler = StandardScaler() \n",
    "# df1[['longitude', 'latitude']] = scaler.fit_transform(df1[['longitude', 'latitude']])\n",
    "# df2[['longitude', 'latitude']] = scaler.fit_transform(df2[['longitude', 'latitude']])\n",
    "value = df['value'].values\n",
    "RNNprediction = df['RNN3-prediction'].values\n",
    "RFprediction = df['RF2-prediction'].values\n",
    "SVMprediction = df['SVM-prediction'].values\n",
    "krigingprediction = df['kriging2-prediction'].values\n",
    "\n",
    "kriging1prediction = df['kriging1-prediction'].values\n",
    "# print(RNNprediction.shape)"
   ]
  },
  {
   "cell_type": "code",
   "execution_count": 2,
   "outputs": [],
   "source": [
    "RNNdiff = value - RNNprediction\n",
    "RFdiff = value - RFprediction\n",
    "SVMdiff = value - SVMprediction\n",
    "krigingdiff = value - krigingprediction\n",
    "kriging1diff = value - kriging1prediction\n",
    "# std_RNN = torch.std(RNNdiff)\n",
    "# std_RF = torch.std(RFdiff)\n",
    "# std_SVM= torch.std(SVMdiff)\n",
    "# std_kriging = torch.std(krigingdiff)"
   ],
   "metadata": {
    "collapsed": false,
    "ExecuteTime": {
     "end_time": "2024-05-06T05:30:14.579699900Z",
     "start_time": "2024-05-06T05:30:14.564739Z"
    }
   },
   "id": "6a47f43d039336ad"
  },
  {
   "cell_type": "code",
   "execution_count": 3,
   "outputs": [
    {
     "name": "stdout",
     "output_type": "stream",
     "text": [
      "RNN的R方： 0.9193102698357001\n",
      "SVM的R方： 0.7659435183304317\n",
      "kriging的R方： 0.8727232539217391\n",
      "RF的R方： 0.9379440275545335\n"
     ]
    }
   ],
   "source": [
    "from sklearn.metrics import r2_score\n",
    "\n",
    "RNN_r2 = r2_score(value, RNNprediction)\n",
    "SVM_r2 = r2_score(value, SVMprediction)\n",
    "kriging_r2 = r2_score(value, krigingprediction)\n",
    "RF_r2 = r2_score(value, RFprediction)\n",
    "\n",
    "print(\"RNN的R方：\", RNN_r2)\n",
    "print(\"SVM的R方：\", SVM_r2)\n",
    "print(\"kriging的R方：\", kriging_r2)\n",
    "print(\"RF的R方：\", RF_r2)\n"
   ],
   "metadata": {
    "collapsed": false,
    "ExecuteTime": {
     "end_time": "2024-05-06T05:30:14.621526900Z",
     "start_time": "2024-05-06T05:30:14.578703900Z"
    }
   },
   "id": "8fecfdb630fb6914"
  },
  {
   "cell_type": "code",
   "execution_count": 67,
   "outputs": [
    {
     "name": "stdout",
     "output_type": "stream",
     "text": [
      "RNN的标准差： 8.397059638837993\n",
      "RNN的均值： -2.1577885416666662\n",
      "SVM的标准差： 14.625128828465375\n",
      "SVM的均值： -2.035028125\n",
      "kriging的标准差： 10.859251913018653\n",
      "kriging的均值： -0.8009541666666667\n",
      "RF的标准差： 7.6020832942744025\n",
      "RF的均值： 0.12915624999999997\n"
     ]
    }
   ],
   "source": [
    "\n",
    "RNNdiff_std = np.std(RNNdiff)\n",
    "RNNdiff_mean = np.mean(RNNdiff)\n",
    "print(\"RNN的标准差：\", RNNdiff_std)\n",
    "print(\"RNN的均值：\", RNNdiff_mean)\n",
    "\n",
    "SVMdiff_std = np.std(SVMdiff)\n",
    "SVMdiff_mean = np.mean(SVMdiff)\n",
    "print(\"SVM的标准差：\", SVMdiff_std)\n",
    "print(\"SVM的均值：\", SVMdiff_mean)\n",
    "\n",
    "krigingdiff_std = np.std(krigingdiff)\n",
    "krigingdiff_mean = np.mean(krigingdiff)\n",
    "print(\"kriging的标准差：\", krigingdiff_std)\n",
    "print(\"kriging的均值：\", krigingdiff_mean)\n",
    "\n",
    "# kriging1diff_std = np.std(kriging1diff)\n",
    "# kriging1diff_mean = np.mean(kriging1diff)\n",
    "# print(\"kriging1的标准差：\", kriging1diff_std)\n",
    "# print(\"kriging1的均值：\", kriging1diff_mean)\n",
    "\n",
    "RFdiff_std = np.std(RFdiff)\n",
    "RFdiff_mean = np.mean(RFdiff)\n",
    "print(\"RF的标准差：\", RFdiff_std)\n",
    "print(\"RF的均值：\", RFdiff_mean)\n",
    "\n",
    "# print('RNN差值的标准差:', std_RNN.item())"
   ],
   "metadata": {
    "collapsed": false,
    "ExecuteTime": {
     "end_time": "2024-04-28T07:04:22.007212600Z",
     "start_time": "2024-04-28T07:04:21.996609700Z"
    }
   },
   "id": "ec52535ccd983217"
  },
  {
   "cell_type": "code",
   "execution_count": 68,
   "outputs": [
    {
     "name": "stdout",
     "output_type": "stream",
     "text": [
      "SVMRMSE: 14.76603307319708\n",
      "SVMMAE: 10.513692708333332\n",
      "RFRMSE: 7.603180370739603\n",
      "RFMAE: 4.618729166666667\n",
      "RNNRMSE: 8.669870931493156\n",
      "RNNMAE: 6.009017708333334\n",
      "krigingMSE: 10.888750143496727\n",
      "krigingMAE: 7.876366666666668\n"
     ]
    }
   ],
   "source": [
    "import numpy as np\n",
    "from scipy.stats import pearsonr\n",
    "# 计算MAPE\n",
    "def mean_absolute_percentage_error(true_values, predicted_values):\n",
    "    return np.mean(np.abs((true_values - predicted_values) / true_values)) * 100\n",
    "# 计算均方根误差（RMSE）\n",
    "RNNRMSE =  np.sqrt(np.mean(RNNdiff ** 2))\n",
    "# 计算平均绝对误差（MAE）\n",
    "RNNMAE =   np.mean(np.abs(RNNdiff))\n",
    "# # 计算相关系数\n",
    "# RNNR =  pearsonr(value - RNNprediction)[0]\n",
    "\n",
    "krigingRMSE =  np.sqrt(np.mean(krigingdiff ** 2))\n",
    "# 计算平均绝对误差（MAE）\n",
    "krigingMAE =   np.mean(np.abs(krigingdiff))\n",
    "\n",
    "SVMRMSE =  np.sqrt(np.mean(SVMdiff ** 2))\n",
    "\n",
    "# 计算平均绝对误差（MAE）\n",
    "SVMMAE =   np.mean(np.abs(SVMdiff))\n",
    "\n",
    "\n",
    "RFRMSE =  np.sqrt(np.mean(RFdiff ** 2))\n",
    "\n",
    "# 计算平均绝对误差（MAE）\n",
    "RFMAE =   np.mean(np.abs(RFdiff))\n",
    "\n",
    "\n",
    "# from sklearn.metrics import mean_squared_error\n",
    "# import numpy as np\n",
    "# \n",
    "# \n",
    "# RFrmse = np.sqrt(mean_squared_error(RFdiff))\n",
    "# \n",
    "# \n",
    "# \n",
    "# RFmape = mean_absolute_percentage_error(RFdiff)\n",
    "\n",
    "\n",
    "\n",
    "# 计算指标值\n",
    "print(\"SVMRMSE:\", SVMRMSE)\n",
    "print(\"SVMMAE:\", SVMMAE)\n",
    "# 计算指标值\n",
    "print(\"RFRMSE:\", RFRMSE)\n",
    "print(\"RFMAE:\", RFMAE)\n",
    "# print(f'RMSE: {RFrmse}')\n",
    "# print(f'MAPE: {RFmape}%')\n",
    "# 计算指标值\n",
    "print(\"RNNRMSE:\", RNNRMSE)\n",
    "print(\"RNNMAE:\", RNNMAE)\n",
    "print(\"krigingMSE:\", krigingRMSE)\n",
    "print(\"krigingMAE:\", krigingMAE)\n",
    "\n",
    "# print(\"Correlation Coefficient:\", RNNR)\n",
    "\n",
    "# print('RNN差值的标准差:', std_RNN.item())"
   ],
   "metadata": {
    "collapsed": false,
    "ExecuteTime": {
     "end_time": "2024-04-28T07:04:22.059484600Z",
     "start_time": "2024-04-28T07:04:22.017172900Z"
    }
   },
   "id": "a0971091415c03d8"
  }
 ],
 "metadata": {
  "kernelspec": {
   "display_name": "Python 3",
   "language": "python",
   "name": "python3"
  },
  "language_info": {
   "codemirror_mode": {
    "name": "ipython",
    "version": 2
   },
   "file_extension": ".py",
   "mimetype": "text/x-python",
   "name": "python",
   "nbconvert_exporter": "python",
   "pygments_lexer": "ipython2",
   "version": "2.7.6"
  }
 },
 "nbformat": 4,
 "nbformat_minor": 5
}

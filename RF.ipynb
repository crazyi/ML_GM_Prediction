{
 "cells": [
  {
   "cell_type": "code",
   "execution_count": 9,
   "id": "initial_id",
   "metadata": {
    "collapsed": true,
    "ExecuteTime": {
     "end_time": "2024-04-28T02:49:10.095457600Z",
     "start_time": "2024-04-28T02:49:09.882653700Z"
    }
   },
   "outputs": [],
   "source": [
    "\n",
    "import pandas as pd\n",
    "import numpy as np\n",
    "from sklearn.ensemble import RandomForestRegressor\n",
    "from sklearn.preprocessing import StandardScaler\n",
    "from sklearn.model_selection import train_test_split\n",
    "import torch\n",
    "import torch.nn as nn\n",
    "import torch.optim as optim\n",
    "\n",
    "# 读取CSV文件\n",
    "df1 = pd.read_csv('训练集.csv')\n",
    "df2 = pd.read_csv('测试集.csv')\n",
    "\n",
    "# 数据预处理\n",
    "scaler = StandardScaler()\n",
    "df1[['longitude', 'latitude']] = scaler.fit_transform(df1[['longitude', 'latitude']])\n",
    "df2[['longitude', 'latitude']] = scaler.transform(df2[['longitude', 'latitude']])\n",
    "inputs1 = df1[['longitude', 'latitude']].values\n",
    "outputs1 = df1['value'].values\n",
    "inputs2 = df2[['longitude', 'latitude']].values\n",
    "outputs2 = df2['value'].values\n",
    "\n",
    "# 划分训练集和测试集\n",
    "X_train = inputs1\n",
    "X_test = inputs2\n",
    "y_train = outputs1\n",
    "y_test = outputs2"
   ]
  },
  {
   "cell_type": "code",
   "execution_count": 10,
   "outputs": [],
   "source": [
    "\n",
    "# 定义随机森林模型\n",
    "model = RandomForestRegressor(n_estimators=1000, min_samples_split=5,random_state=468)\n",
    "# # model = RandomForestRegressor(n_estimators=10000, max_depth=500, min_samples_split=30, random_state=42)"
   ],
   "metadata": {
    "collapsed": false,
    "ExecuteTime": {
     "end_time": "2024-04-28T02:49:10.096454600Z",
     "start_time": "2024-04-28T02:49:09.981241400Z"
    }
   },
   "id": "f2f5ebcbe676253f"
  },
  {
   "cell_type": "code",
   "execution_count": 11,
   "outputs": [],
   "source": [
    "# from sklearn.model_selection import GridSearchCV\n",
    "# \n",
    "# # 定义参数网格\n",
    "# param_grid = {\n",
    "#     'n_estimators': [100,200,400, 500,700, 1000,2000],\n",
    "#     'max_depth': [None, 10, 20,30,40],\n",
    "#     'min_samples_split': [2,6,3 ,4, 5,7,8, 10]\n",
    "# }\n",
    "# \n",
    "# # 创建 GridSearchCV 对象\n",
    "# grid_search = GridSearchCV(RandomForestRegressor(random_state=42), param_grid, cv=5, n_jobs=-1)\n",
    "# \n",
    "# # 在训练集上训练模型\n",
    "# grid_search.fit(X_train, y_train)\n",
    "# \n",
    "# # 输出最佳参数组合\n",
    "# print(\"Best Parameters:\", grid_search.best_params_)\n",
    "# \n",
    "# # 输出最佳模型在测试集上的性能\n",
    "# print(\"Best Score:\", grid_search.best_score_)\n"
   ],
   "metadata": {
    "collapsed": false,
    "ExecuteTime": {
     "end_time": "2024-04-28T02:49:10.096454600Z",
     "start_time": "2024-04-28T02:49:10.007664900Z"
    }
   },
   "id": "e8f3a81e2518b988"
  },
  {
   "cell_type": "code",
   "execution_count": 12,
   "outputs": [],
   "source": [
    "# best_params = grid_search.best_params_\n",
    "# best_model = grid_search.best_estimator_"
   ],
   "metadata": {
    "collapsed": false,
    "ExecuteTime": {
     "end_time": "2024-04-28T02:49:10.096454600Z",
     "start_time": "2024-04-28T02:49:10.025644Z"
    }
   },
   "id": "ed82b339183667a4"
  },
  {
   "cell_type": "code",
   "execution_count": 13,
   "outputs": [
    {
     "data": {
      "text/plain": "RandomForestRegressor(min_samples_split=5, n_estimators=1000, random_state=468)",
      "text/html": "<style>#sk-container-id-2 {color: black;}#sk-container-id-2 pre{padding: 0;}#sk-container-id-2 div.sk-toggleable {background-color: white;}#sk-container-id-2 label.sk-toggleable__label {cursor: pointer;display: block;width: 100%;margin-bottom: 0;padding: 0.3em;box-sizing: border-box;text-align: center;}#sk-container-id-2 label.sk-toggleable__label-arrow:before {content: \"▸\";float: left;margin-right: 0.25em;color: #696969;}#sk-container-id-2 label.sk-toggleable__label-arrow:hover:before {color: black;}#sk-container-id-2 div.sk-estimator:hover label.sk-toggleable__label-arrow:before {color: black;}#sk-container-id-2 div.sk-toggleable__content {max-height: 0;max-width: 0;overflow: hidden;text-align: left;background-color: #f0f8ff;}#sk-container-id-2 div.sk-toggleable__content pre {margin: 0.2em;color: black;border-radius: 0.25em;background-color: #f0f8ff;}#sk-container-id-2 input.sk-toggleable__control:checked~div.sk-toggleable__content {max-height: 200px;max-width: 100%;overflow: auto;}#sk-container-id-2 input.sk-toggleable__control:checked~label.sk-toggleable__label-arrow:before {content: \"▾\";}#sk-container-id-2 div.sk-estimator input.sk-toggleable__control:checked~label.sk-toggleable__label {background-color: #d4ebff;}#sk-container-id-2 div.sk-label input.sk-toggleable__control:checked~label.sk-toggleable__label {background-color: #d4ebff;}#sk-container-id-2 input.sk-hidden--visually {border: 0;clip: rect(1px 1px 1px 1px);clip: rect(1px, 1px, 1px, 1px);height: 1px;margin: -1px;overflow: hidden;padding: 0;position: absolute;width: 1px;}#sk-container-id-2 div.sk-estimator {font-family: monospace;background-color: #f0f8ff;border: 1px dotted black;border-radius: 0.25em;box-sizing: border-box;margin-bottom: 0.5em;}#sk-container-id-2 div.sk-estimator:hover {background-color: #d4ebff;}#sk-container-id-2 div.sk-parallel-item::after {content: \"\";width: 100%;border-bottom: 1px solid gray;flex-grow: 1;}#sk-container-id-2 div.sk-label:hover label.sk-toggleable__label {background-color: #d4ebff;}#sk-container-id-2 div.sk-serial::before {content: \"\";position: absolute;border-left: 1px solid gray;box-sizing: border-box;top: 0;bottom: 0;left: 50%;z-index: 0;}#sk-container-id-2 div.sk-serial {display: flex;flex-direction: column;align-items: center;background-color: white;padding-right: 0.2em;padding-left: 0.2em;position: relative;}#sk-container-id-2 div.sk-item {position: relative;z-index: 1;}#sk-container-id-2 div.sk-parallel {display: flex;align-items: stretch;justify-content: center;background-color: white;position: relative;}#sk-container-id-2 div.sk-item::before, #sk-container-id-2 div.sk-parallel-item::before {content: \"\";position: absolute;border-left: 1px solid gray;box-sizing: border-box;top: 0;bottom: 0;left: 50%;z-index: -1;}#sk-container-id-2 div.sk-parallel-item {display: flex;flex-direction: column;z-index: 1;position: relative;background-color: white;}#sk-container-id-2 div.sk-parallel-item:first-child::after {align-self: flex-end;width: 50%;}#sk-container-id-2 div.sk-parallel-item:last-child::after {align-self: flex-start;width: 50%;}#sk-container-id-2 div.sk-parallel-item:only-child::after {width: 0;}#sk-container-id-2 div.sk-dashed-wrapped {border: 1px dashed gray;margin: 0 0.4em 0.5em 0.4em;box-sizing: border-box;padding-bottom: 0.4em;background-color: white;}#sk-container-id-2 div.sk-label label {font-family: monospace;font-weight: bold;display: inline-block;line-height: 1.2em;}#sk-container-id-2 div.sk-label-container {text-align: center;}#sk-container-id-2 div.sk-container {/* jupyter's `normalize.less` sets `[hidden] { display: none; }` but bootstrap.min.css set `[hidden] { display: none !important; }` so we also need the `!important` here to be able to override the default hidden behavior on the sphinx rendered scikit-learn.org. See: https://github.com/scikit-learn/scikit-learn/issues/21755 */display: inline-block !important;position: relative;}#sk-container-id-2 div.sk-text-repr-fallback {display: none;}</style><div id=\"sk-container-id-2\" class=\"sk-top-container\"><div class=\"sk-text-repr-fallback\"><pre>RandomForestRegressor(min_samples_split=5, n_estimators=1000, random_state=468)</pre><b>In a Jupyter environment, please rerun this cell to show the HTML representation or trust the notebook. <br />On GitHub, the HTML representation is unable to render, please try loading this page with nbviewer.org.</b></div><div class=\"sk-container\" hidden><div class=\"sk-item\"><div class=\"sk-estimator sk-toggleable\"><input class=\"sk-toggleable__control sk-hidden--visually\" id=\"sk-estimator-id-2\" type=\"checkbox\" checked><label for=\"sk-estimator-id-2\" class=\"sk-toggleable__label sk-toggleable__label-arrow\">RandomForestRegressor</label><div class=\"sk-toggleable__content\"><pre>RandomForestRegressor(min_samples_split=5, n_estimators=1000, random_state=468)</pre></div></div></div></div></div>"
     },
     "execution_count": 13,
     "metadata": {},
     "output_type": "execute_result"
    }
   ],
   "source": [
    "\n",
    "# 训练模型\n",
    "model.fit(X_train, y_train) "
   ],
   "metadata": {
    "collapsed": false,
    "ExecuteTime": {
     "end_time": "2024-04-28T02:51:18.335781500Z",
     "start_time": "2024-04-28T02:49:10.042596700Z"
    }
   },
   "id": "ac95be99da1c89f7"
  },
  {
   "cell_type": "code",
   "execution_count": 14,
   "outputs": [
    {
     "name": "stdout",
     "output_type": "stream",
     "text": [
      "[-130.38 -107.44  -62.38 ...  -40.13  -66.81  -40.01] [-123.31 -102.35  -68.84 ...  -27.89  -78.23  -31.3 ]\n"
     ]
    }
   ],
   "source": [
    "\n",
    "# 模型预测\n",
    "# 假设 best_model 是训练好的随机森林模型\n",
    "# X_test 是测试集的输入特征\n",
    "# y_pred = best_model.predict(X_test)\n",
    "\n",
    "# y_pred 就是模型对 X_test 的预测结果\n",
    "# \n",
    "y_pred = model.predict(X_test)\n",
    "import numpy as np\n",
    "# 保留小数点后两位\n",
    "y_pred = np.round(y_pred, 2)\n",
    "print(y_pred,y_test)"
   ],
   "metadata": {
    "collapsed": false,
    "ExecuteTime": {
     "end_time": "2024-04-28T02:51:21.149305200Z",
     "start_time": "2024-04-28T02:51:18.327802300Z"
    }
   },
   "id": "53efca08061bcd88"
  },
  {
   "cell_type": "code",
   "execution_count": 16,
   "outputs": [],
   "source": [
    "df = pd.DataFrame({'prediction': y_pred},index=range(len(y_pred)))\n",
    "desktop_path = r'D:\\桌面内容\\深度学习的资料\\GIthub代码\\LSTM-SVM-RF-time-series-master\\LSTM-SVM-RF-time-series-master\\重力插值-数据2\\prediction-rf11（改进）.csv'\n",
    "# 将 DataFrame 写入 CSV 文件\n",
    "df.to_csv(desktop_path, index=False)\n"
   ],
   "metadata": {
    "collapsed": false,
    "ExecuteTime": {
     "end_time": "2024-04-28T02:52:44.746545700Z",
     "start_time": "2024-04-28T02:52:43.240975500Z"
    }
   },
   "id": "dec2f99fbcfb08be"
  },
  {
   "cell_type": "code",
   "execution_count": 17,
   "outputs": [
    {
     "name": "stdout",
     "output_type": "stream",
     "text": [
      "tensor(7.6449, dtype=torch.float64)\n"
     ]
    }
   ],
   "source": [
    "y_pred_tensor = torch.tensor(y_pred)\n",
    "diff = y_pred - y_test\n",
    "# std_diff = torch.std(diff)\n",
    "std_diff = torch.std(torch.from_numpy(diff))\n",
    "print(std_diff)"
   ],
   "metadata": {
    "collapsed": false,
    "ExecuteTime": {
     "end_time": "2024-04-28T02:52:46.271337600Z",
     "start_time": "2024-04-28T02:52:46.204373200Z"
    }
   },
   "id": "3a794fd0b12b0ae7"
  },
  {
   "cell_type": "code",
   "execution_count": null,
   "outputs": [],
   "source": [
    "\n",
    "# # 保存预测结果到CSV文件\n",
    "# df = pd.DataFrame({'prediction': y_pred})\n",
    "# df.to_csv('predictions_rf.csv', index=False)\n"
   ],
   "metadata": {
    "collapsed": false,
    "ExecuteTime": {
     "start_time": "2024-04-28T02:51:21.565764500Z"
    }
   },
   "id": "b693d274755f663e"
  }
 ],
 "metadata": {
  "kernelspec": {
   "display_name": "Python 3",
   "language": "python",
   "name": "python3"
  },
  "language_info": {
   "codemirror_mode": {
    "name": "ipython",
    "version": 2
   },
   "file_extension": ".py",
   "mimetype": "text/x-python",
   "name": "python",
   "nbconvert_exporter": "python",
   "pygments_lexer": "ipython2",
   "version": "2.7.6"
  }
 },
 "nbformat": 4,
 "nbformat_minor": 5
}

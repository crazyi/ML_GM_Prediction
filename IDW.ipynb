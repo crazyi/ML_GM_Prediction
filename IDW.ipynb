{
 "cells": [
  {
   "cell_type": "code",
   "execution_count": null,
   "id": "initial_id",
   "metadata": {
    "collapsed": true
   },
   "outputs": [],
   "source": [
    ""
   ]
  },
  {
   "metadata": {
    "ExecuteTime": {
     "end_time": "2024-12-24T11:01:26.001111Z",
     "start_time": "2024-12-24T11:01:25.588876Z"
    }
   },
   "cell_type": "code",
   "source": [
    "import pandas as pd\n",
    "import numpy as np\n",
    "from sklearn.metrics import mean_squared_error, r2_score\n",
    "\n",
    "# 数据读取\n",
    "df_train = pd.read_csv('训练集.csv')  # 训练集文件名\n",
    "df_val = pd.read_csv('验证集.csv')   # 验证集文件名\n",
    "\n",
    "# 提取训练集和验证集的输入和目标值\n",
    "X_train = df_train[['longitude', 'latitude']].values  # 训练集输入\n",
    "y_train = df_train['value'].values  # 训练集目标值\n",
    "\n",
    "X_val = df_val[['longitude', 'latitude']].values  # 验证集输入\n",
    "y_val = df_val['value'].values  # 验证集目标值\n",
    "\n",
    "# 定义距离加权反比法插值函数\n",
    "def idw_interpolation(x_train, y_train, x_pred, power=2):\n",
    "    \"\"\"\n",
    "    距离加权反比法插值\n",
    "    :param x_train: 训练点的坐标 (N, 2)\n",
    "    :param y_train: 训练点的值 (N,)\n",
    "    :param x_pred: 待预测点的坐标 (M, 2)\n",
    "    :param power: 距离权重的指数\n",
    "    :return: 插值结果 (M,)\n",
    "    \"\"\"\n",
    "    predictions = []\n",
    "    for x in x_pred:\n",
    "        # 计算每个训练点到当前预测点的距离\n",
    "        distances = np.linalg.norm(x_train - x, axis=1)\n",
    "        # 避免除以零的情况，将距离中非常小的值替换为一个较小的正数\n",
    "        distances = np.where(distances == 0, 1e-10, distances)\n",
    "        # 计算权重\n",
    "        weights = 1 / (distances ** power)\n",
    "        # 插值值计算\n",
    "        interpolated_value = np.sum(weights * y_train) / np.sum(weights)\n",
    "        predictions.append(interpolated_value)\n",
    "    return np.array(predictions)\n",
    "\n",
    "# 使用距离加权反比法进行插值\n",
    "y_pred_val = idw_interpolation(X_train, y_train, X_val, power=2)  # power=2 表示平方反比权重\n",
    "\n",
    "# 计算模型评估指标\n",
    "mse = mean_squared_error(y_val, y_pred_val)\n",
    "r2 = r2_score(y_val, y_pred_val)\n",
    "\n",
    "print(\"训练和验证完成\")\n",
    "print(f\"均方误差 (MSE): {mse:.4f}\")\n",
    "print(f\"决定系数 (R²): {r2:.4f}\")\n",
    "\n",
    "# 保存预测结果\n",
    "df_result = pd.DataFrame({\n",
    "    'longitude': X_val[:, 0],\n",
    "    'latitude': X_val[:, 1],\n",
    "    'actual_value': y_val,\n",
    "    'predicted_value': y_pred_val\n",
    "})\n",
    "\n",
    "df_result.to_csv('predictions-idw.csv', index=False)\n",
    "print(\"结果已保存至 'predictions-idw.csv'\")\n"
   ],
   "id": "581e880b41ba2e28",
   "outputs": [
    {
     "name": "stdout",
     "output_type": "stream",
     "text": [
      "训练和验证完成\n",
      "均方误差 (MSE): 177.3083\n",
      "决定系数 (R²): 0.7269\n",
      "结果已保存至 'predictions-idw.csv'\n"
     ]
    }
   ],
   "execution_count": 1
  }
 ],
 "metadata": {
  "kernelspec": {
   "display_name": "Python 3",
   "language": "python",
   "name": "python3"
  },
  "language_info": {
   "codemirror_mode": {
    "name": "ipython",
    "version": 2
   },
   "file_extension": ".py",
   "mimetype": "text/x-python",
   "name": "python",
   "nbconvert_exporter": "python",
   "pygments_lexer": "ipython2",
   "version": "2.7.6"
  }
 },
 "nbformat": 4,
 "nbformat_minor": 5
}

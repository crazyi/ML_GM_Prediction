{
 "cells": [
  {
   "cell_type": "code",
   "execution_count": null,
   "id": "initial_id",
   "metadata": {
    "collapsed": true
   },
   "outputs": [],
   "source": []
  },
  {
   "cell_type": "code",
   "execution_count": 1,
   "outputs": [],
   "source": [
    "import pandas as pd\n",
    "import numpy as np\n",
    "import torch\n",
    "import torch.nn as nn\n",
    "import torch.optim as optim\n",
    "from sklearn.preprocessing import StandardScaler\n",
    "from sklearn.model_selection import train_test_split\n",
    "\n",
    "# 读取CSV文件\n",
    "df1 = pd.read_csv('训练集.csv')\n",
    "df2 = pd.read_csv('测试集.csv')\n",
    "# 数据预处理\n",
    "scaler = StandardScaler()\n",
    "df1[['longitude', 'latitude']] = scaler.fit_transform(df1[['longitude', 'latitude']])\n",
    "df2[['longitude', 'latitude']] = scaler.fit_transform(df2[['longitude', 'latitude']])\n",
    "df1[['value']] = scaler.fit_transform(df1[['value']])\n",
    "df2[['value']] = scaler.fit_transform(df2[['value']])\n",
    "inputs1 = df1[['longitude', 'latitude']].values\n",
    "outputs1 = df1['value'].values\n",
    "inputs2 = df2[['longitude', 'latitude']].values\n",
    "outputs2 = df2['value'].values\n",
    "\n",
    "# 划分训练集和测试集\n",
    "# X_train, X_test, y_train, y_test = train_test_split(inputs1,inputs2,outputs1, outputs2,  random_state=42)\n",
    "X_train = inputs1\n",
    "X_test = inputs2\n",
    "y_train = outputs1\n",
    "y_test = outputs2\n",
    "# 转换为PyTorch张量\n",
    "X_train = torch.tensor(X_train, dtype=torch.float32)\n",
    "X_test = torch.tensor(X_test, dtype=torch.float32)\n",
    "y_train = torch.tensor(y_train, dtype=torch.float32).view(-1, 1)  # 保持二维形状\n",
    "y_test = torch.tensor(y_test, dtype=torch.float32).view(-1, 1)  # 保持二维形状\n",
    "# print(X_train,y_train,X_test,y_test)"
   ],
   "metadata": {
    "collapsed": false,
    "ExecuteTime": {
     "end_time": "2024-04-28T02:06:20.589302100Z",
     "start_time": "2024-04-28T02:06:15.309586500Z"
    }
   },
   "id": "51900b9993d9a8b5"
  },
  {
   "cell_type": "code",
   "execution_count": 2,
   "outputs": [],
   "source": [
    "\n",
    "# 定义RNN模型\n",
    "class RNNModel(nn.Module):\n",
    "    def __init__(self, input_size, hidden_size, output_size, num_layers=3):\n",
    "        super(RNNModel, self).__init__()\n",
    "        self.hidden_size = hidden_size\n",
    "        self.num_layers = num_layers\n",
    "        self.rnn = nn.RNN(input_size, hidden_size, num_layers, batch_first=True)\n",
    "        self.fc = nn.Linear(hidden_size, output_size)\n",
    "\n",
    "    def forward(self, x, h0):\n",
    "\n",
    "        out, _ = self.rnn(x, h0)\n",
    "        out = self.fc(out[:, -1, :])\n",
    "        return out\n",
    "\n",
    "# 初始化模型和损失函数、优化器\n",
    "input_size = 2  # 经度和纬度\n",
    "output_size = 1  # 单值输出\n",
    "hidden_size = 128\n",
    "num_layers = 3\n",
    "model = RNNModel(input_size, hidden_size, output_size)\n",
    "criterion = nn.MSELoss()\n",
    "# criterion = nn.SmoothL1Loss()\n",
    "optimizer = optim.Adam(model.parameters(), lr=0.01)"
   ],
   "metadata": {
    "collapsed": false,
    "ExecuteTime": {
     "end_time": "2024-04-28T02:06:21.041396500Z",
     "start_time": "2024-04-28T02:06:20.593292800Z"
    }
   },
   "id": "a1c889b46b22d936"
  },
  {
   "cell_type": "code",
   "execution_count": 3,
   "outputs": [],
   "source": [
    "# class RNNModel(nn.Module):\n",
    "#     def __init__(self, input_size, hidden_size, output_size, num_layers=4):\n",
    "#         super(RNNModel, self).__init__()\n",
    "#         self.hidden_size = hidden_size\n",
    "#         self.num_layers = num_layers\n",
    "#         self.rnn = nn.RNN(input_size, hidden_size, num_layers, batch_first=True)\n",
    "#         self.fc = nn.Linear(hidden_size, output_size)\n",
    "# \n",
    "#     def forward(self, x, h0):\n",
    "#         # x: (batch_size, sequence_length, input_size)\n",
    "#         # h0: (num_layers, batch_size, hidden_size)\n",
    "#         out, _ = self.rnn(x, h0)\n",
    "#         # out: (batch_size, sequence_length, hidden_size)\n",
    "#         out = self.fc(out[:, -1, :])  # 只取序列的最后一个输出作为模型输出\n",
    "#         # out: (batch_size, output_size)\n",
    "#         return out\n",
    "# \n",
    "# # 假设 batch_size 为 32，sequence_length 为 10\n",
    "# batch_size = 32\n",
    "# sequence_length = 10\n",
    "# input_size = 2  # 经度和纬度\n",
    "# output_size = 1  # 单值输出\n",
    "# hidden_size = 256\n",
    "# num_layers =4\n",
    "# \n",
    "# # 初始化模型和损失函数、优化器\n",
    "# model = RNNModel(input_size, hidden_size, output_size)\n",
    "# # criterion = nn.LiLoss()\n",
    "# criterion = nn.L1Loss()\n",
    "# # criterion = nn.SmoothL1Loss()\n",
    "# optimizer = optim.Adam(model.parameters(), lr=0.01)\n",
    "# \n",
    "# # 随机生成一个 batch 的输入数据和初始隐藏状态\n",
    "# input_data = torch.rand(batch_size, sequence_length, input_size)\n",
    "# h0 = torch.zeros(num_layers, batch_size, hidden_size)\n",
    "# \n",
    "# # 计算模型输出和损失\n",
    "# output = model(input_data, h0)\n",
    "# target = torch.rand(batch_size, output_size)  # 随机生成一个 batch 的目标值\n",
    "# loss = criterion(output, target)\n",
    "# \n",
    "# # 进行反向传播和参数更新\n",
    "# optimizer.zero_grad()\n",
    "# loss.backward()\n",
    "# optimizer.step()\n"
   ],
   "metadata": {
    "collapsed": false,
    "ExecuteTime": {
     "end_time": "2024-04-28T02:06:21.056863300Z",
     "start_time": "2024-04-28T02:06:21.043392600Z"
    }
   },
   "id": "5d86e0006f198d4d"
  },
  {
   "cell_type": "code",
   "execution_count": 0,
   "outputs": [],
   "source": [
    "\n",
    "# 训练模型\n",
    "num_epochs = 1000\n",
    "for epoch in range(num_epochs):\n",
    "    optimizer.zero_grad()\n",
    "    outputs_pred = model(X_train.unsqueeze(1), torch.zeros(num_layers, X_train.size(0), hidden_size))\n",
    "    loss = criterion(outputs_pred, y_train)\n",
    "    loss.backward()\n",
    "    optimizer.step()\n",
    "    if (epoch + 1) % 100 == 0:\n",
    "        print(f'Epoch [{epoch+1}/{num_epochs}], Loss: {loss.item()}')\n",
    "# 模型预测"
   ],
   "metadata": {
    "collapsed": false
   },
   "id": "26fd216d63e18956"
  },
  {
   "cell_type": "code",
   "execution_count": 9,
   "outputs": [
    {
     "name": "stdout",
     "output_type": "stream",
     "text": [
      "差值的标准差: 28.19388115603303\n",
      "差值的均值: -0.002336864359676838\n"
     ]
    },
    {
     "name": "stderr",
     "output_type": "stream",
     "text": [
      "C:\\Users\\94430\\AppData\\Local\\Temp\\ipykernel_64696\\2096155254.py:33: UserWarning: To copy construct from a tensor, it is recommended to use sourceTensor.clone().detach() or sourceTensor.clone().detach().requires_grad_(True), rather than torch.tensor(sourceTensor).\n",
      "  y_pred_tensor = torch.tensor(y_pred)\n"
     ]
    }
   ],
   "source": [
    "\n",
    "with torch.no_grad():\n",
    "    y_pred = model(X_test.unsqueeze(1), torch.zeros(num_layers, X_test.size(0), hidden_size))\n",
    "  \n",
    "      # 将预测值反标准化\n",
    "    y_pred = scaler.inverse_transform(y_pred.reshape(-1, 1))\n",
    "\n",
    "    y_pred = torch.tensor(y_pred)\n",
    "    diff = y_pred - y_test\n",
    "    std_diff = torch.std(diff)\n",
    "      # df = pd.DataFrame(y_pred, columns=['prediction'])\n",
    "    # df.to_csv('predictions.csv', index=False)\n",
    "\n",
    "    # 将二维数组转换为一维数组\n",
    "    predictions_1d = y_pred.reshape(-1)\n",
    "    # 创建包含预测结果的 DataFrame\n",
    "    import numpy as np\n",
    "\n",
    "\n",
    "\n",
    "    # 保留小数点后两位\n",
    "    y_pred_RNN = np.round(predictions_1d, 2)\n",
    "    df = pd.DataFrame({'prediction': y_pred_RNN},index=range(len(y_pred_RNN)))\n",
    "    desktop_path = r'D:\\桌面内容\\深度学习的资料\\GIthub代码\\LSTM-SVM-RF-time-series-master\\LSTM-SVM-RF-time-series-master\\重力插值-数据2\\prediction1-RNN-1-1-1.csv'\n",
    "    #将 DataFrame 写入 CSV 文件\n",
    "    df.to_csv(desktop_path, index=False)\n",
    "\n",
    "    print('差值的标准差:', std_diff.item())\n",
    "    # print(y_pred)\n",
    "    # print(\"Predictions:\", y_pred.view(-1).tolist())\n",
    "    # print(\"Actual:\", y_test.view(-1).tolist())\n",
    "with torch.no_grad():\n",
    "    y_pred = model(X_test.unsqueeze(1), torch.zeros(num_layers, X_test.size(0), hidden_size))\n",
    "    y_pred_tensor = torch.tensor(y_pred)\n",
    "    diff = y_pred_tensor - torch.Tensor(y_test)\n",
    "    # diff = y_pred - y_test\n",
    "    diff_mean = torch.mean(diff)\n",
    "    # print(y_pred)\n",
    "\n",
    "    # 假设 predictions 是一个包含预测结果的列表或数组\n",
    "    df = pd.DataFrame(y_pred, columns=['prediction'])\n",
    "    df.to_csv('predictions.csv', index=False)\n",
    "\n",
    "\n",
    "# 如果有对应的索引，可以将索引加入 DataFrame\n",
    "# df.index = your_index\n",
    "\n",
    "    print('差值的均值:', diff_mean.item())\n",
    "    # print(y_pred)\n"
   ],
   "metadata": {
    "collapsed": false,
    "ExecuteTime": {
     "end_time": "2024-04-28T02:11:05.416376400Z",
     "start_time": "2024-04-28T02:11:05.284125Z"
    }
   },
   "id": "83dbd2fb41368f72"
  },
  {
   "cell_type": "code",
   "execution_count": 5,
   "outputs": [],
   "source": [
    "# with torch.no_grad():\n",
    "#     y_pred = model(X_test.unsqueeze(1), torch.zeros(num_layers, X_test.size(0), hidden_size))# 假设 y_pred 是模型的预测结果\n",
    "#     # 将 y_pred 转换为一维数组\n",
    "#     y_pred = y_pred.view(-1)\n",
    "# \n",
    "#     y_pred_unscaled = scaler.inverse_transform(y_pred)\n",
    "#     y_test_unscaled = scaler.inverse_transform(y_test)\n",
    "#     diff = y_pred_unscaled - y_test_unscaled\n",
    "#     diff_mean = torch.mean(diff)\n",
    "#     print(y_pred)\n",
    "#     print('差值的均值:', diff_mean.item())\n",
    "# # 打印反标准化后的数据\n",
    "# print(\"Predictions (unscaled):\", y_pred_unscaled)\n"
   ],
   "metadata": {
    "collapsed": false,
    "ExecuteTime": {
     "end_time": "2024-04-28T02:09:57.931848800Z",
     "start_time": "2024-04-28T02:09:57.905918300Z"
    }
   },
   "id": "fb573426cae2fa48"
  },
  {
   "cell_type": "code",
   "execution_count": 6,
   "outputs": [],
   "source": [
    "# with torch.no_grad():\n",
    "#     y_pred = model(X_test.unsqueeze(1), torch.zeros(num_layers, X_test.size(0), hidden_size))\n",
    "#     y_pred_tensor = torch.tensor(y_pred)\n",
    "#     diff = y_pred_tensor - torch.Tensor(y_test)\n",
    "#     # diff = y_pred - y_test\n",
    "#     diff_mean = torch.mean(diff)\n",
    "#     # print(y_pred)\n",
    "# \n",
    "#     # 假设 predictions 是一个包含预测结果的列表或数组\n",
    "#     df = pd.DataFrame(y_pred, columns=['prediction'])\n",
    "#     df.to_csv('predictions.csv', index=False)\n",
    "# \n",
    "# \n",
    "# # 如果有对应的索引，可以将索引加入 DataFrame\n",
    "# # df.index = your_index\n",
    "# \n",
    "#     print('差值的均值:', diff_mean.item())\n",
    "#     # print(y_pred)\n"
   ],
   "metadata": {
    "collapsed": false,
    "ExecuteTime": {
     "end_time": "2024-04-28T02:09:57.962766300Z",
     "start_time": "2024-04-28T02:09:57.924868100Z"
    }
   },
   "id": "130f8502952cc1e3"
  },
  {
   "cell_type": "code",
   "execution_count": 7,
   "outputs": [
    {
     "name": "stdout",
     "output_type": "stream",
     "text": [
      "D:\\桌面内容\\深度学习的资料\\GIthub代码\\LSTM-SVM-RF-time-series-master\\LSTM-SVM-RF-time-series-master\\重力插值-数据2\n"
     ]
    }
   ],
   "source": [
    "# import os\n",
    "# print(os.getcwd())\n",
    "\n"
   ],
   "metadata": {
    "collapsed": false,
    "ExecuteTime": {
     "end_time": "2024-04-28T02:09:57.989693400Z",
     "start_time": "2024-04-28T02:09:57.938830800Z"
    }
   },
   "id": "83110680cbc6a6c9"
  },
  {
   "cell_type": "code",
   "execution_count": 8,
   "outputs": [],
   "source": [
    "\n",
    "# # 模型预测\n",
    "# with torch.no_grad():\n",
    "#     y_pred = model(X_test.unsqueeze(1), torch.zeros(num_layers, X_test.size(0), hidden_size))\n",
    "#   \n",
    "#     diff = y_pred - y_test\n",
    "#     std_diff = torch.std(diff)\n",
    "#       # df = pd.DataFrame(y_pred, columns=['prediction'])\n",
    "#     # df.to_csv('predictions.csv', index=False)\n",
    "# \n",
    "#     # 将二维数组转换为一维数组\n",
    "#     predictions_1d = y_pred.reshape(-1)\n",
    "#     # 创建包含预测结果的 DataFrame\n",
    "#     df = pd.DataFrame({'prediction': predictions_1d},index=range(len(predictions_1d)))\n",
    "#     desktop_path = r'D:\\桌面内容\\深度学习的资料\\GIthub代码\\LSTM-SVM-RF-time-series-master\\LSTM-SVM-RF-time-series-master\\重力插值-数据2\\predictions-RNN-13(huber).csv'\n",
    "#     # 将 DataFrame 写入 CSV 文件\n",
    "#     df.to_csv(desktop_path, index=False)\n",
    "# \n",
    "#     # print('差值的标准差:', std_diff.item())\n",
    "#     # print(y_pred)\n",
    "#     # # print(\"Predictions:\", y_pred.view(-1).tolist())\n",
    "#     # # print(\"Actual:\", y_test.view(-1).tolist())\n"
   ],
   "metadata": {
    "collapsed": false,
    "ExecuteTime": {
     "end_time": "2024-04-28T02:09:58.056107700Z",
     "start_time": "2024-04-28T02:09:57.955785200Z"
    }
   },
   "id": "6ffa93abbeef6540"
  }
 ],
 "metadata": {
  "kernelspec": {
   "display_name": "Python 3",
   "language": "python",
   "name": "python3"
  },
  "language_info": {
   "codemirror_mode": {
    "name": "ipython",
    "version": 2
   },
   "file_extension": ".py",
   "mimetype": "text/x-python",
   "name": "python",
   "nbconvert_exporter": "python",
   "pygments_lexer": "ipython2",
   "version": "2.7.6"
  }
 },
 "nbformat": 4,
 "nbformat_minor": 5
}

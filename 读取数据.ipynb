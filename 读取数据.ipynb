{
 "cells": [
  {
   "cell_type": "code",
   "execution_count": null,
   "id": "initial_id",
   "metadata": {
    "collapsed": true
   },
   "outputs": [],
   "source": []
  },
  {
   "cell_type": "code",
   "execution_count": null,
   "outputs": [],
   "source": [
    "# import pandas as pd\n",
    "# \n",
    "# # 假设原始CSV文件名为 'original_data.csv'\n",
    "# input_csv_file = '重力数据2.csv'\n",
    "# # 输出CSV文件名\n",
    "# output_csv_file = '测试集.csv'\n",
    "# \n",
    "# # 读取原始CSV文件\n",
    "# df = pd.read_csv(input_csv_file)\n",
    "# \n",
    "# # 初始化一个空的DataFrame来存储选定的行\n",
    "# selected_df = pd.DataFrame()\n",
    "# \n",
    "# # 指定间隔和要提取的行\n",
    "# step = 24\n",
    "# rows_to_select = [0, 5, 10, 15, 21]\n",
    "# \n",
    "# # 循环遍历DataFrame，并根据间隔和指定的行进行选择\n",
    "# for i in range(0, len(df), step):\n",
    "#     selected_rows = df.iloc[i:i+step+1][rows_to_select] if (i + step + 1) <= len(df) else df.iloc[i:i+step+1]\n",
    "#     selected_df = pd.concat([selected_df, selected_rows], ignore_index=True)\n",
    "# \n",
    "# # 将选定的行写入新的CSV文件\n",
    "# selected_df.to_csv(output_csv_file, index=False)\n",
    "# \n",
    "# print(f'Selected data has been written to {output_csv_file}')"
   ],
   "metadata": {
    "collapsed": false
   },
   "id": "7df7ad9a5851e2cb"
  },
  {
   "cell_type": "code",
   "execution_count": 1,
   "outputs": [
    {
     "ename": "KeyError",
     "evalue": "\"None of [Index([0, 5, 10, 15, 21], dtype='int32')] are in the [columns]\"",
     "output_type": "error",
     "traceback": [
      "\u001B[1;31m---------------------------------------------------------------------------\u001B[0m",
      "\u001B[1;31mKeyError\u001B[0m                                  Traceback (most recent call last)",
      "Cell \u001B[1;32mIn[1], line 26\u001B[0m\n\u001B[0;32m     24\u001B[0m \u001B[38;5;28;01mfor\u001B[39;00m i \u001B[38;5;129;01min\u001B[39;00m \u001B[38;5;28mrange\u001B[39m(\u001B[38;5;241m0\u001B[39m, \u001B[38;5;28mlen\u001B[39m(df), step):\n\u001B[0;32m     25\u001B[0m     \u001B[38;5;28;01mif\u001B[39;00m i \u001B[38;5;241m+\u001B[39m step \u001B[38;5;241m<\u001B[39m \u001B[38;5;28mlen\u001B[39m(df):\n\u001B[1;32m---> 26\u001B[0m         selected_rows \u001B[38;5;241m=\u001B[39m \u001B[43mdf\u001B[49m\u001B[38;5;241;43m.\u001B[39;49m\u001B[43miloc\u001B[49m\u001B[43m[\u001B[49m\u001B[43mi\u001B[49m\u001B[43m:\u001B[49m\u001B[43mi\u001B[49m\u001B[38;5;241;43m+\u001B[39;49m\u001B[43mstep\u001B[49m\u001B[43m,\u001B[49m\u001B[43m \u001B[49m\u001B[43m:\u001B[49m\u001B[43m]\u001B[49m\u001B[43m[\u001B[49m\u001B[43mrows_to_select\u001B[49m\u001B[43m]\u001B[49m\n\u001B[0;32m     27\u001B[0m     \u001B[38;5;28;01melse\u001B[39;00m:\n\u001B[0;32m     28\u001B[0m         \u001B[38;5;66;03m# 处理最后不足24行的情况\u001B[39;00m\n\u001B[0;32m     29\u001B[0m         selected_rows \u001B[38;5;241m=\u001B[39m df\u001B[38;5;241m.\u001B[39miloc[i:, :][rows_to_select]\n",
      "File \u001B[1;32md:\\python\\lib\\site-packages\\pandas\\core\\frame.py:3902\u001B[0m, in \u001B[0;36mDataFrame.__getitem__\u001B[1;34m(self, key)\u001B[0m\n\u001B[0;32m   3900\u001B[0m     \u001B[38;5;28;01mif\u001B[39;00m is_iterator(key):\n\u001B[0;32m   3901\u001B[0m         key \u001B[38;5;241m=\u001B[39m \u001B[38;5;28mlist\u001B[39m(key)\n\u001B[1;32m-> 3902\u001B[0m     indexer \u001B[38;5;241m=\u001B[39m \u001B[38;5;28;43mself\u001B[39;49m\u001B[38;5;241;43m.\u001B[39;49m\u001B[43mcolumns\u001B[49m\u001B[38;5;241;43m.\u001B[39;49m\u001B[43m_get_indexer_strict\u001B[49m\u001B[43m(\u001B[49m\u001B[43mkey\u001B[49m\u001B[43m,\u001B[49m\u001B[43m \u001B[49m\u001B[38;5;124;43m\"\u001B[39;49m\u001B[38;5;124;43mcolumns\u001B[39;49m\u001B[38;5;124;43m\"\u001B[39;49m\u001B[43m)\u001B[49m[\u001B[38;5;241m1\u001B[39m]\n\u001B[0;32m   3904\u001B[0m \u001B[38;5;66;03m# take() does not accept boolean indexers\u001B[39;00m\n\u001B[0;32m   3905\u001B[0m \u001B[38;5;28;01mif\u001B[39;00m \u001B[38;5;28mgetattr\u001B[39m(indexer, \u001B[38;5;124m\"\u001B[39m\u001B[38;5;124mdtype\u001B[39m\u001B[38;5;124m\"\u001B[39m, \u001B[38;5;28;01mNone\u001B[39;00m) \u001B[38;5;241m==\u001B[39m \u001B[38;5;28mbool\u001B[39m:\n",
      "File \u001B[1;32md:\\python\\lib\\site-packages\\pandas\\core\\indexes\\base.py:6114\u001B[0m, in \u001B[0;36mIndex._get_indexer_strict\u001B[1;34m(self, key, axis_name)\u001B[0m\n\u001B[0;32m   6111\u001B[0m \u001B[38;5;28;01melse\u001B[39;00m:\n\u001B[0;32m   6112\u001B[0m     keyarr, indexer, new_indexer \u001B[38;5;241m=\u001B[39m \u001B[38;5;28mself\u001B[39m\u001B[38;5;241m.\u001B[39m_reindex_non_unique(keyarr)\n\u001B[1;32m-> 6114\u001B[0m \u001B[38;5;28;43mself\u001B[39;49m\u001B[38;5;241;43m.\u001B[39;49m\u001B[43m_raise_if_missing\u001B[49m\u001B[43m(\u001B[49m\u001B[43mkeyarr\u001B[49m\u001B[43m,\u001B[49m\u001B[43m \u001B[49m\u001B[43mindexer\u001B[49m\u001B[43m,\u001B[49m\u001B[43m \u001B[49m\u001B[43maxis_name\u001B[49m\u001B[43m)\u001B[49m\n\u001B[0;32m   6116\u001B[0m keyarr \u001B[38;5;241m=\u001B[39m \u001B[38;5;28mself\u001B[39m\u001B[38;5;241m.\u001B[39mtake(indexer)\n\u001B[0;32m   6117\u001B[0m \u001B[38;5;28;01mif\u001B[39;00m \u001B[38;5;28misinstance\u001B[39m(key, Index):\n\u001B[0;32m   6118\u001B[0m     \u001B[38;5;66;03m# GH 42790 - Preserve name from an Index\u001B[39;00m\n",
      "File \u001B[1;32md:\\python\\lib\\site-packages\\pandas\\core\\indexes\\base.py:6175\u001B[0m, in \u001B[0;36mIndex._raise_if_missing\u001B[1;34m(self, key, indexer, axis_name)\u001B[0m\n\u001B[0;32m   6173\u001B[0m     \u001B[38;5;28;01mif\u001B[39;00m use_interval_msg:\n\u001B[0;32m   6174\u001B[0m         key \u001B[38;5;241m=\u001B[39m \u001B[38;5;28mlist\u001B[39m(key)\n\u001B[1;32m-> 6175\u001B[0m     \u001B[38;5;28;01mraise\u001B[39;00m \u001B[38;5;167;01mKeyError\u001B[39;00m(\u001B[38;5;124mf\u001B[39m\u001B[38;5;124m\"\u001B[39m\u001B[38;5;124mNone of [\u001B[39m\u001B[38;5;132;01m{\u001B[39;00mkey\u001B[38;5;132;01m}\u001B[39;00m\u001B[38;5;124m] are in the [\u001B[39m\u001B[38;5;132;01m{\u001B[39;00maxis_name\u001B[38;5;132;01m}\u001B[39;00m\u001B[38;5;124m]\u001B[39m\u001B[38;5;124m\"\u001B[39m)\n\u001B[0;32m   6177\u001B[0m not_found \u001B[38;5;241m=\u001B[39m \u001B[38;5;28mlist\u001B[39m(ensure_index(key)[missing_mask\u001B[38;5;241m.\u001B[39mnonzero()[\u001B[38;5;241m0\u001B[39m]]\u001B[38;5;241m.\u001B[39munique())\n\u001B[0;32m   6178\u001B[0m \u001B[38;5;28;01mraise\u001B[39;00m \u001B[38;5;167;01mKeyError\u001B[39;00m(\u001B[38;5;124mf\u001B[39m\u001B[38;5;124m\"\u001B[39m\u001B[38;5;132;01m{\u001B[39;00mnot_found\u001B[38;5;132;01m}\u001B[39;00m\u001B[38;5;124m not in index\u001B[39m\u001B[38;5;124m\"\u001B[39m)\n",
      "\u001B[1;31mKeyError\u001B[0m: \"None of [Index([0, 5, 10, 15, 21], dtype='int32')] are in the [columns]\""
     ]
    }
   ],
   "source": [
    "import pandas as pd\n",
    "import os\n",
    "\n",
    "# 假设原始CSV文件名为 'original_data.csv'\n",
    "input_csv_file = '重力数据2.csv'\n",
    "# 新的训练集CSV文件名\n",
    "new_csv_file = '测试集 .csv'\n",
    "\n",
    "new_csv_1_file = '训练集 .csv'\n",
    "\n",
    "# 确保原始文件存在\n",
    "if os.path.exists(input_csv_file):\n",
    "    # 读取原始CSV文件\n",
    "    df = pd.read_csv(input_csv_file)\n",
    "\n",
    "    # 初始化一个空的DataFrame来存储选定的行\n",
    "    selected_df = pd.DataFrame()\n",
    "\n",
    "    # 指定间隔和要提取的行\n",
    "    step = 24\n",
    "    rows_to_select = [0, 5, 10, 15, 21]\n",
    "\n",
    "    # 循环遍历DataFrame，并根据间隔和指定的行进行选择\n",
    "    for i in range(0, len(df), step):\n",
    "        if i + step < len(df):\n",
    "            selected_rows = df.iloc[i:i+step, :][rows_to_select]\n",
    "        else:\n",
    "            # 处理最后不足24行的情况\n",
    "            selected_rows = df.iloc[i:, :][rows_to_select]\n",
    "        selected_df = pd.concat([selected_df, selected_rows], ignore_index=True)\n",
    "\n",
    "    # 将选定的行保存到新的CSV文件\n",
    "    selected_df.to_csv(new_csv_file, index=False)\n",
    "\n",
    "    # 删除原始文件中的选定数据\n",
    "    df.drop(df.index[df.index % step == 0], inplace=True)\n",
    "\n",
    "    # 将剩余数据保存回原始文件\n",
    "    df.to_csv(new_csv_1_file, index=False)\n",
    "\n",
    "    print(f'Selected data has been written to {new_csv_file} and the original file has been updated.')\n",
    "else:\n",
    "    print(f'The file {input_csv_file} does not exist.')"
   ],
   "metadata": {
    "collapsed": false,
    "ExecuteTime": {
     "end_time": "2024-04-15T05:58:35.270297800Z",
     "start_time": "2024-04-15T05:58:32.523243700Z"
    }
   },
   "id": "41805275a848676d"
  },
  {
   "cell_type": "code",
   "execution_count": 2,
   "outputs": [
    {
     "ename": "IndexError",
     "evalue": "positional indexers are out-of-bounds",
     "output_type": "error",
     "traceback": [
      "\u001B[1;31m---------------------------------------------------------------------------\u001B[0m",
      "\u001B[1;31mIndexError\u001B[0m                                Traceback (most recent call last)",
      "Cell \u001B[1;32mIn[2], line 26\u001B[0m\n\u001B[0;32m     24\u001B[0m     actual_row_indices \u001B[38;5;241m=\u001B[39m [i \u001B[38;5;241m+\u001B[39m j \u001B[38;5;241m+\u001B[39m \u001B[38;5;241m1\u001B[39m \u001B[38;5;28;01mfor\u001B[39;00m j \u001B[38;5;129;01min\u001B[39;00m rows_to_select]\n\u001B[0;32m     25\u001B[0m     \u001B[38;5;66;03m# 选择行，确保不会超出DataFrame的边界\u001B[39;00m\n\u001B[1;32m---> 26\u001B[0m     selected_rows \u001B[38;5;241m=\u001B[39m \u001B[43mdf\u001B[49m\u001B[38;5;241;43m.\u001B[39;49m\u001B[43miloc\u001B[49m\u001B[43m[\u001B[49m\u001B[43mactual_row_indices\u001B[49m\u001B[43m,\u001B[49m\u001B[43m \u001B[49m\u001B[43m:\u001B[49m\u001B[43m]\u001B[49m\n\u001B[0;32m     27\u001B[0m     selected_df \u001B[38;5;241m=\u001B[39m pd\u001B[38;5;241m.\u001B[39mconcat([selected_df, selected_rows], ignore_index\u001B[38;5;241m=\u001B[39m\u001B[38;5;28;01mTrue\u001B[39;00m)\n\u001B[0;32m     29\u001B[0m \u001B[38;5;66;03m# 将选定的行保存到新的CSV文件\u001B[39;00m\n",
      "File \u001B[1;32md:\\python\\lib\\site-packages\\pandas\\core\\indexing.py:1147\u001B[0m, in \u001B[0;36m_LocationIndexer.__getitem__\u001B[1;34m(self, key)\u001B[0m\n\u001B[0;32m   1145\u001B[0m     \u001B[38;5;28;01mif\u001B[39;00m \u001B[38;5;28mself\u001B[39m\u001B[38;5;241m.\u001B[39m_is_scalar_access(key):\n\u001B[0;32m   1146\u001B[0m         \u001B[38;5;28;01mreturn\u001B[39;00m \u001B[38;5;28mself\u001B[39m\u001B[38;5;241m.\u001B[39mobj\u001B[38;5;241m.\u001B[39m_get_value(\u001B[38;5;241m*\u001B[39mkey, takeable\u001B[38;5;241m=\u001B[39m\u001B[38;5;28mself\u001B[39m\u001B[38;5;241m.\u001B[39m_takeable)\n\u001B[1;32m-> 1147\u001B[0m     \u001B[38;5;28;01mreturn\u001B[39;00m \u001B[38;5;28;43mself\u001B[39;49m\u001B[38;5;241;43m.\u001B[39;49m\u001B[43m_getitem_tuple\u001B[49m\u001B[43m(\u001B[49m\u001B[43mkey\u001B[49m\u001B[43m)\u001B[49m\n\u001B[0;32m   1148\u001B[0m \u001B[38;5;28;01melse\u001B[39;00m:\n\u001B[0;32m   1149\u001B[0m     \u001B[38;5;66;03m# we by definition only have the 0th axis\u001B[39;00m\n\u001B[0;32m   1150\u001B[0m     axis \u001B[38;5;241m=\u001B[39m \u001B[38;5;28mself\u001B[39m\u001B[38;5;241m.\u001B[39maxis \u001B[38;5;129;01mor\u001B[39;00m \u001B[38;5;241m0\u001B[39m\n",
      "File \u001B[1;32md:\\python\\lib\\site-packages\\pandas\\core\\indexing.py:1652\u001B[0m, in \u001B[0;36m_iLocIndexer._getitem_tuple\u001B[1;34m(self, tup)\u001B[0m\n\u001B[0;32m   1651\u001B[0m \u001B[38;5;28;01mdef\u001B[39;00m \u001B[38;5;21m_getitem_tuple\u001B[39m(\u001B[38;5;28mself\u001B[39m, tup: \u001B[38;5;28mtuple\u001B[39m):\n\u001B[1;32m-> 1652\u001B[0m     tup \u001B[38;5;241m=\u001B[39m \u001B[38;5;28;43mself\u001B[39;49m\u001B[38;5;241;43m.\u001B[39;49m\u001B[43m_validate_tuple_indexer\u001B[49m\u001B[43m(\u001B[49m\u001B[43mtup\u001B[49m\u001B[43m)\u001B[49m\n\u001B[0;32m   1653\u001B[0m     \u001B[38;5;28;01mwith\u001B[39;00m suppress(IndexingError):\n\u001B[0;32m   1654\u001B[0m         \u001B[38;5;28;01mreturn\u001B[39;00m \u001B[38;5;28mself\u001B[39m\u001B[38;5;241m.\u001B[39m_getitem_lowerdim(tup)\n",
      "File \u001B[1;32md:\\python\\lib\\site-packages\\pandas\\core\\indexing.py:940\u001B[0m, in \u001B[0;36m_LocationIndexer._validate_tuple_indexer\u001B[1;34m(self, key)\u001B[0m\n\u001B[0;32m    938\u001B[0m \u001B[38;5;28;01mfor\u001B[39;00m i, k \u001B[38;5;129;01min\u001B[39;00m \u001B[38;5;28menumerate\u001B[39m(key):\n\u001B[0;32m    939\u001B[0m     \u001B[38;5;28;01mtry\u001B[39;00m:\n\u001B[1;32m--> 940\u001B[0m         \u001B[38;5;28;43mself\u001B[39;49m\u001B[38;5;241;43m.\u001B[39;49m\u001B[43m_validate_key\u001B[49m\u001B[43m(\u001B[49m\u001B[43mk\u001B[49m\u001B[43m,\u001B[49m\u001B[43m \u001B[49m\u001B[43mi\u001B[49m\u001B[43m)\u001B[49m\n\u001B[0;32m    941\u001B[0m     \u001B[38;5;28;01mexcept\u001B[39;00m \u001B[38;5;167;01mValueError\u001B[39;00m \u001B[38;5;28;01mas\u001B[39;00m err:\n\u001B[0;32m    942\u001B[0m         \u001B[38;5;28;01mraise\u001B[39;00m \u001B[38;5;167;01mValueError\u001B[39;00m(\n\u001B[0;32m    943\u001B[0m             \u001B[38;5;124m\"\u001B[39m\u001B[38;5;124mLocation based indexing can only have \u001B[39m\u001B[38;5;124m\"\u001B[39m\n\u001B[0;32m    944\u001B[0m             \u001B[38;5;124mf\u001B[39m\u001B[38;5;124m\"\u001B[39m\u001B[38;5;124m[\u001B[39m\u001B[38;5;132;01m{\u001B[39;00m\u001B[38;5;28mself\u001B[39m\u001B[38;5;241m.\u001B[39m_valid_types\u001B[38;5;132;01m}\u001B[39;00m\u001B[38;5;124m] types\u001B[39m\u001B[38;5;124m\"\u001B[39m\n\u001B[0;32m    945\u001B[0m         ) \u001B[38;5;28;01mfrom\u001B[39;00m \u001B[38;5;21;01merr\u001B[39;00m\n",
      "File \u001B[1;32md:\\python\\lib\\site-packages\\pandas\\core\\indexing.py:1574\u001B[0m, in \u001B[0;36m_iLocIndexer._validate_key\u001B[1;34m(self, key, axis)\u001B[0m\n\u001B[0;32m   1572\u001B[0m     \u001B[38;5;66;03m# check that the key does not exceed the maximum size of the index\u001B[39;00m\n\u001B[0;32m   1573\u001B[0m     \u001B[38;5;28;01mif\u001B[39;00m \u001B[38;5;28mlen\u001B[39m(arr) \u001B[38;5;129;01mand\u001B[39;00m (arr\u001B[38;5;241m.\u001B[39mmax() \u001B[38;5;241m>\u001B[39m\u001B[38;5;241m=\u001B[39m len_axis \u001B[38;5;129;01mor\u001B[39;00m arr\u001B[38;5;241m.\u001B[39mmin() \u001B[38;5;241m<\u001B[39m \u001B[38;5;241m-\u001B[39mlen_axis):\n\u001B[1;32m-> 1574\u001B[0m         \u001B[38;5;28;01mraise\u001B[39;00m \u001B[38;5;167;01mIndexError\u001B[39;00m(\u001B[38;5;124m\"\u001B[39m\u001B[38;5;124mpositional indexers are out-of-bounds\u001B[39m\u001B[38;5;124m\"\u001B[39m)\n\u001B[0;32m   1575\u001B[0m \u001B[38;5;28;01melse\u001B[39;00m:\n\u001B[0;32m   1576\u001B[0m     \u001B[38;5;28;01mraise\u001B[39;00m \u001B[38;5;167;01mValueError\u001B[39;00m(\u001B[38;5;124mf\u001B[39m\u001B[38;5;124m\"\u001B[39m\u001B[38;5;124mCan only index by location with a [\u001B[39m\u001B[38;5;132;01m{\u001B[39;00m\u001B[38;5;28mself\u001B[39m\u001B[38;5;241m.\u001B[39m_valid_types\u001B[38;5;132;01m}\u001B[39;00m\u001B[38;5;124m]\u001B[39m\u001B[38;5;124m\"\u001B[39m)\n",
      "\u001B[1;31mIndexError\u001B[0m: positional indexers are out-of-bounds"
     ]
    }
   ],
   "source": [
    "# import pandas as pd\n",
    "# import os\n",
    "# \n",
    "# # 假设原始CSV文件名为 'original_data.csv'\n",
    "# input_csv_file = '重力数据2.csv'\n",
    "# # 新的训练集CSV文件名\n",
    "# new_csv_file = '测试集.csv'\n",
    "# \n",
    "# # 确保原始文件存在\n",
    "# if os.path.exists(input_csv_file):\n",
    "#     # 读取原始CSV文件\n",
    "#     df = pd.read_csv(input_csv_file)\n",
    "# \n",
    "#     # 初始化一个空的DataFrame来存储选定的行\n",
    "#     selected_df = pd.DataFrame()\n",
    "# \n",
    "#     # 指定间隔和要提取的行\n",
    "#     step = 24\n",
    "#     rows_to_select = [0, 5, 10, 15, 21]  # 这些是样本行索引，不是列索引\n",
    "# \n",
    "#     # 循环遍历DataFrame，并根据间隔和指定的行进行选择\n",
    "#     for i in range(0, len(df), step):\n",
    "#         # 计算实际的行索引，因为Pandas的行索引从1开始\n",
    "#         actual_row_indices = [i + j + 1 for j in rows_to_select]\n",
    "#         # 选择行，确保不会超出DataFrame的边界\n",
    "#         selected_rows = df.iloc[actual_row_indices, :]\n",
    "#         selected_df = pd.concat([selected_df, selected_rows], ignore_index=True)\n",
    "# \n",
    "#     # 将选定的行保存到新的CSV文件\n",
    "#     selected_df.to_csv(new_csv_file, index=False)\n",
    "# \n",
    "#     # 准备一个列表来存储要删除的行索引\n",
    "#     indexes_to_drop = []\n",
    "# \n",
    "#     # 计算并添加要删除的行索引\n",
    "#     for i in range(0, len(df), step):\n",
    "#         # 计算实际的行索引，因为Pandas的行索引从1开始\n",
    "#         indexes_to_drop.extend([i + j + 1 for j in rows_to_select])\n",
    "# \n",
    "#     # 删除原始文件中的选定数据\n",
    "#     # 确保不会删除重复的索引\n",
    "#     indexes_to_drop = list(set(indexes_to_drop))\n",
    "#     df.drop(df.index[sorted(indexes_to_drop)], inplace=True)\n",
    "# \n",
    "#     # 将剩余数据保存回原始文件\n",
    "#     df.to_csv(input_csv_file, index=False)\n",
    "# \n",
    "#     print(f'Selected data has been written to {new_csv_file} and the original file has been updated.')\n",
    "# else:\n",
    "#     print(f'The file {input_csv_file} does not exist.')"
   ],
   "metadata": {
    "collapsed": false,
    "ExecuteTime": {
     "end_time": "2024-04-15T06:01:49.868967600Z",
     "start_time": "2024-04-15T06:01:49.346218800Z"
    }
   },
   "id": "bcda417d7b255aad"
  },
  {
   "cell_type": "code",
   "execution_count": null,
   "outputs": [],
   "source": [],
   "metadata": {
    "collapsed": false
   },
   "id": "5b98fb703997e32"
  },
  {
   "cell_type": "code",
   "execution_count": 5,
   "outputs": [
    {
     "ename": "TypeError",
     "evalue": "unsupported operand type(s) for +: 'int' and 'list'",
     "output_type": "error",
     "traceback": [
      "\u001B[1;31m---------------------------------------------------------------------------\u001B[0m",
      "\u001B[1;31mTypeError\u001B[0m                                 Traceback (most recent call last)",
      "Cell \u001B[1;32mIn[5], line 26\u001B[0m\n\u001B[0;32m     22\u001B[0m \u001B[38;5;28;01mfor\u001B[39;00m i \u001B[38;5;129;01min\u001B[39;00m \u001B[38;5;28mrange\u001B[39m(\u001B[38;5;241m0\u001B[39m, \u001B[38;5;28mlen\u001B[39m(df), step):\n\u001B[0;32m     23\u001B[0m     \u001B[38;5;66;03m# 检查是否有足够的行来提取\u001B[39;00m\n\u001B[0;32m     24\u001B[0m     \u001B[38;5;28;01mif\u001B[39;00m i \u001B[38;5;241m+\u001B[39m step \u001B[38;5;241m<\u001B[39m\u001B[38;5;241m=\u001B[39m \u001B[38;5;28mlen\u001B[39m(df):\n\u001B[0;32m     25\u001B[0m         \u001B[38;5;66;03m# 使用iloc来根据行索引选择行\u001B[39;00m\n\u001B[1;32m---> 26\u001B[0m         selected_rows \u001B[38;5;241m=\u001B[39m df\u001B[38;5;241m.\u001B[39miloc[\u001B[43mi\u001B[49m\u001B[43m \u001B[49m\u001B[38;5;241;43m+\u001B[39;49m\u001B[43m \u001B[49m\u001B[43mrows_to_select\u001B[49m, :]\n\u001B[0;32m     27\u001B[0m         \u001B[38;5;66;03m# 将选定的行添加到selected_df中\u001B[39;00m\n\u001B[0;32m     28\u001B[0m         selected_df \u001B[38;5;241m=\u001B[39m pd\u001B[38;5;241m.\u001B[39mconcat([selected_df, selected_rows], ignore_index\u001B[38;5;241m=\u001B[39m\u001B[38;5;28;01mTrue\u001B[39;00m)\n",
      "\u001B[1;31mTypeError\u001B[0m: unsupported operand type(s) for +: 'int' and 'list'"
     ]
    }
   ],
   "source": [
    "# import pandas as pd\n",
    "# import os\n",
    "# \n",
    "# # 假设原始CSV文件名为 'original_data.csv'\n",
    "# input_csv_file = '重力数据2.csv'\n",
    "# # 新的训练集CSV文件名\n",
    "# new_csv_file = '测试集.csv'\n",
    "# \n",
    "# # 确保原始文件存在\n",
    "# if os.path.exists(input_csv_file):\n",
    "#     # 读取原始CSV文件\n",
    "#     df = pd.read_csv(input_csv_file)\n",
    "# \n",
    "#     # 初始化一个空的DataFrame来存储选定的行\n",
    "#     selected_df = pd.DataFrame()\n",
    "# \n",
    "#     # 指定间隔和要提取的行\n",
    "#     step = 24\n",
    "#     rows_to_select = [0, 5, 10, 15, 21]  # 这些是每隔24行要提取的行索引\n",
    "# \n",
    "#     # 循环遍历DataFrame，并根据间隔和指定的行进行选择\n",
    "#     for i in range(0, len(df), step):\n",
    "#         # 检查是否有足够的行来提取\n",
    "#         if i + step <= len(df):\n",
    "#             # 使用iloc来根据行索引选择行\n",
    "#             selected_rows = df.iloc[i + rows_to_select, :]\n",
    "#             # 将选定的行添加到selected_df中\n",
    "#             selected_df = pd.concat([selected_df, selected_rows], ignore_index=True)\n",
    "# \n",
    "#     # 将选定的行保存到新的CSV文件\n",
    "#     selected_df.to_csv(new_csv_file, index=False)\n",
    "# \n",
    "#     # 删除原始文件中的选定数据\n",
    "#     # 创建一个布尔索引，表示哪些行应该被保留\n",
    "#     mask = df.index.repeat(step).isin(selected_df.index)\n",
    "#     # 使用布尔索引来过滤DataFrame\n",
    "#     df = df[mask]\n",
    "# \n",
    "#     # 将剩余的数据保存回原始文件\n",
    "#     df.to_csv(input_csv_file, index=False)\n",
    "# \n",
    "#     # 删除原始文件\n",
    "#     os.remove(input_csv_file)\n",
    "# \n",
    "#     print(f'Selected data has been written to {new_csv_file} and the original file has been updated.')\n",
    "# else:\n",
    "#     print(f'The file {input_csv_file} does not exist.')"
   ],
   "metadata": {
    "collapsed": false,
    "ExecuteTime": {
     "end_time": "2024-04-15T06:08:35.086476600Z",
     "start_time": "2024-04-15T06:08:35.025639200Z"
    }
   },
   "id": "f3b5b77c26fc32e9"
  },
  {
   "cell_type": "code",
   "execution_count": 8,
   "outputs": [],
   "source": [
    "# import pandas as pd\n",
    "# \n",
    "# # 读取原始csv文件\n",
    "# df = pd.read_csv('重力数据2.csv')\n",
    "# \n",
    "# # 取出每24行的第1、6、11、16、21行数据\n",
    "# selected_rows = df.iloc[range(0, len(df), 24)]\n",
    "# selected_rows = selected_rows.iloc[[0, 5, 10, 15, 20]]\n",
    "# \n",
    "# # 保存为新的csv文件\n",
    "# selected_rows.to_csv('测试集.csv', index=False)\n",
    "# \n",
    "# # 在原始文件中删除取出的数据\n",
    "# df.drop(df.index[range(0, len(df), 24)], inplace=True)\n",
    "# df.drop(df.index[range(4, len(df), 24)], inplace=True)\n",
    "# df.drop(df.index[range(8, len(df), 24)], inplace=True)\n",
    "# df.drop(df.index[range(12, len(df), 24)], inplace=True)\n",
    "# df.drop(df.index[range(16, len(df), 24)], inplace=True)\n",
    "# \n",
    "# # 保存修改后的原始csv文件\n",
    "# df.to_csv('训练集.csv', index=False)\n"
   ],
   "metadata": {
    "collapsed": false,
    "ExecuteTime": {
     "end_time": "2024-04-15T06:20:49.577510300Z",
     "start_time": "2024-04-15T06:20:49.436943500Z"
    }
   },
   "id": "c54838d1a96d7ec3"
  },
  {
   "cell_type": "code",
   "execution_count": 1,
   "outputs": [],
   "source": [
    "import pandas as pd\n",
    "\n",
    "# 读取原始csv文件\n",
    "df = pd.read_csv('重力数据2.csv')\n",
    "\n",
    "# 取出每24行的第1、6、11、16、21行数据\n",
    "selected_rows_1= df.iloc[::24]\n",
    "selected_rows_2 = df.iloc[5::24]\n",
    "selected_rows_3 = df.iloc[10::24]\n",
    "selected_rows_4 = df.iloc[15::24]\n",
    "selected_rows_5= df.iloc[20::24]\n",
    "# selected_rows = selected_rows.iloc[[0, 5, 10, 15, 20]]\n",
    "\n",
    "\n",
    "\n",
    "# 合并这五个DataFrame为一个新的DataFrame\n",
    "selected_rows = pd.concat([selected_rows_1, selected_rows_2, selected_rows_3, selected_rows_4, selected_rows_5])\n",
    "\n",
    "# 保存为新的csv文件\n",
    "selected_rows.to_csv('测试集.csv', index=False)\n",
    "\n",
    "# 删除选定的行\n",
    "df = df.drop(selected_rows_1.index)\n",
    "df = df.drop(selected_rows_2.index)\n",
    "df = df.drop(selected_rows_3.index)\n",
    "df = df.drop(selected_rows_4.index)\n",
    "df = df.drop(selected_rows_5.index)\n",
    "\n",
    "# 保存结果回文件\n",
    "df.to_csv('训练集.csv', index=False)\n",
    "# # 保存为新的csv文件\n",
    "# selected_rows_1.to_csv('测试集.csv', index=False)\n",
    "# selected_rows_2.to_csv('测试集.csv', index=False)\n",
    "# selected_rows_3.to_csv('测试集.csv', index=False)\n",
    "# selected_rows_4.to_csv('测试集.csv', index=False)\n",
    "# selected_rows_5.to_csv('测试集.csv', index=False)\n",
    "\n",
    "# # 在原始文件中删除取出的数据\n",
    "# df.drop(df.index[::24], inplace=True)\n",
    "# df.drop(df.index[5::24], inplace=True)\n",
    "# df.drop(df.index[10::24], inplace=True)\n",
    "# df.drop(df.index[15::24], inplace=True)\n",
    "# df.drop(df.index[20::24], inplace=True)\n",
    "# \n",
    "# # 保存修改后的原始csv文件\n",
    "# df.to_csv('训练集.csv', index=False)\n"
   ],
   "metadata": {
    "collapsed": false,
    "ExecuteTime": {
     "end_time": "2024-04-19T03:08:20.126579200Z",
     "start_time": "2024-04-19T03:08:18.906735900Z"
    }
   },
   "id": "98736dcde0a86c0"
  }
 ],
 "metadata": {
  "kernelspec": {
   "display_name": "Python 3",
   "language": "python",
   "name": "python3"
  },
  "language_info": {
   "codemirror_mode": {
    "name": "ipython",
    "version": 2
   },
   "file_extension": ".py",
   "mimetype": "text/x-python",
   "name": "python",
   "nbconvert_exporter": "python",
   "pygments_lexer": "ipython2",
   "version": "2.7.6"
  }
 },
 "nbformat": 4,
 "nbformat_minor": 5
}

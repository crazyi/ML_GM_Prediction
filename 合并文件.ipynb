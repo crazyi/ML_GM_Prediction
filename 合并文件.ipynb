{
 "cells": [
  {
   "cell_type": "code",
   "execution_count": null,
   "id": "initial_id",
   "metadata": {
    "collapsed": true
   },
   "outputs": [],
   "source": [
    ""
   ]
  },
  {
   "metadata": {
    "ExecuteTime": {
     "end_time": "2024-12-26T02:11:57.269961Z",
     "start_time": "2024-12-26T02:11:57.250447Z"
    }
   },
   "cell_type": "code",
   "source": [
    "import pandas as pd\n",
    "\n",
    "# 加载第一个CSV文件\n",
    "file1 = '训练集.csv'  # 替换为实际的文件名\n",
    "df1 = pd.read_csv(file1)\n",
    "\n",
    "# 加载第二个CSV文件\n",
    "file2 = 'predictions-lightgbm.csv'  # 替换为实际的文件名\n",
    "df2 = pd.read_csv(file2)\n",
    "\n",
    "# 合并两个数据框\n",
    "# 如果数据需要按列对齐，保持列名一致；否则，指定axis=0会直接按行合并\n",
    "merged_df = pd.concat([df1, df2], axis=0, ignore_index=True)\n",
    "\n",
    "# 保存为新的CSV文件\n",
    "output_file = 'lgbmx.csv'  # 替换为输出文件名\n",
    "merged_df.to_csv(output_file, index=False)\n",
    "\n",
    "print(f\"合并完成，结果已保存到 {output_file}\")\n"
   ],
   "id": "732becf36c58ed68",
   "outputs": [
    {
     "name": "stdout",
     "output_type": "stream",
     "text": [
      "合并完成，结果已保存到 lgbmx.csv\n"
     ]
    }
   ],
   "execution_count": 9
  }
 ],
 "metadata": {
  "kernelspec": {
   "display_name": "Python 3",
   "language": "python",
   "name": "python3"
  },
  "language_info": {
   "codemirror_mode": {
    "name": "ipython",
    "version": 2
   },
   "file_extension": ".py",
   "mimetype": "text/x-python",
   "name": "python",
   "nbconvert_exporter": "python",
   "pygments_lexer": "ipython2",
   "version": "2.7.6"
  }
 },
 "nbformat": 4,
 "nbformat_minor": 5
}
